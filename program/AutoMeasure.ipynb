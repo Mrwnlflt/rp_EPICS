{
 "cells": [
  {
   "cell_type": "markdown",
   "id": "581c8ba8",
   "metadata": {},
   "source": [
    "# Import python libraries"
   ]
  },
  {
   "cell_type": "code",
   "execution_count": 14,
   "id": "7abccf30",
   "metadata": {},
   "outputs": [],
   "source": [
    "import pyvisa\n",
    "import sys\n",
    "import time\n",
    "import epics\n",
    "import numpy\n",
    "import matplotlib.pyplot as plt"
   ]
  },
  {
   "cell_type": "markdown",
   "id": "49219463",
   "metadata": {},
   "source": [
    "# Initialise global variables"
   ]
  },
  {
   "cell_type": "code",
   "execution_count": 15,
   "id": "2b1d5dc1",
   "metadata": {},
   "outputs": [],
   "source": [
    "MAXF = 16500000000\n",
    "MINF = 14500000000\n",
    "MAXP = -14.5\n",
    "MINP = -20\n",
    "ai = 0"
   ]
  },
  {
   "cell_type": "markdown",
   "id": "7fb186e6",
   "metadata": {},
   "source": [
    "# Define signal generator communication functions"
   ]
  },
  {
   "cell_type": "code",
   "execution_count": 16,
   "id": "b147ec40",
   "metadata": {},
   "outputs": [],
   "source": [
    "def setFreq(freq):\n",
    "    if (freq>MAXF or freq <MINF):\n",
    "        print('invalid frequency range')\n",
    "        return False\n",
    "    inst.write(':FREQ ' + str(freq))\n",
    "    if (float(inst.query(':FREQ?').strip())==freq):\n",
    "        return True\n",
    "    else:\n",
    "        print(repr(inst.query(':FREQ?')))\n",
    "        print('failed to set correct frequency')\n",
    "        return False\n",
    "\n",
    "def setPow(pow):\n",
    "    if (pow>MAXP or pow <MINP):\n",
    "        print('invalid power range')\n",
    "        return False\n",
    "    inst.write(':POW ' + str(pow) + 'dBm')\n",
    "    if (int(inst.query(':POW?').strip())==pow):\n",
    "        return True\n",
    "    else:\n",
    "        print(repr(inst.query(':POW?')))\n",
    "        print('failed to set correct power')\n",
    "        return False\n",
    "\n",
    "def updateFreq():\n",
    "    current_frequency = readFreq()\n",
    "    current_increment = readFreqInc()\n",
    "    if ((current_frequency + current_increment)>MAXF):\n",
    "        print('invalid frequency range')\n",
    "        return False\n",
    "    inst.write(':FREQ UP')\n",
    "    return True\n",
    "\n",
    "def updatePow():\n",
    "    current_power = readPow()\n",
    "    current_increment = readPowInc()\n",
    "    if ((current_power+current_increment)>MAXP):\n",
    "        print('End of power range')\n",
    "        return False\n",
    "    inst.write(':POW UP')\n",
    "    return True\n",
    "\n",
    "def setFreqInc(inc):\n",
    "    inst.write(':FREQ:STEP ' + str(inc))\n",
    "    if (int(inst.query(':FREQ:STEP?').strip())!=inc):\n",
    "        print('failed to set freq increment')\n",
    "        return False\n",
    "    return True\n",
    "\n",
    "def setPowInc(inc):\n",
    "    inst.write(':POW:STEP ' + str(inc) + ' dB')\n",
    "    if (float(inst.query(':POW:STEP?').strip())!=inc):\n",
    "        print('failed to set increment')\n",
    "        return False\n",
    "    return True\n",
    "\n",
    "def initPnF(freq,power,freqinc,powerinc):\n",
    "    setFreq(freq)\n",
    "    setPow(power)\n",
    "    setFreqInc(freqinc)\n",
    "    setPowInc(powerinc)\n",
    "\n",
    "def readFreq():\n",
    "    return float(inst.query(':FREQ?').strip())\n",
    "\n",
    "def readPow():\n",
    "    return float(inst.query(':POW?').strip())\n",
    "\n",
    "def readFreqInc():\n",
    "    return float(inst.query(':FREQ:STEP?').strip())\n",
    "\n",
    "def readPowInc():\n",
    "    return float(inst.query(':POW:STEP?').strip())\n",
    "    \n",
    "\n",
    "def powOn():\n",
    "    a = readFreq()\n",
    "    b = readPow()\n",
    "    if a > MAXF or a < MINF or b > MAXP or b < MINP:\n",
    "        return False\n",
    "    inst.write(':OUTP ON')\n",
    "    return True\n",
    "\n",
    "def powOff():\n",
    "    inst.write(':OUTP OFF')"
   ]
  },
  {
   "cell_type": "markdown",
   "id": "49845b51",
   "metadata": {},
   "source": [
    "# define functions to interface with IOC"
   ]
  },
  {
   "cell_type": "code",
   "execution_count": 17,
   "id": "2f1be4aa",
   "metadata": {},
   "outputs": [],
   "source": [
    "def incAtt():\n",
    "    global ai\n",
    "    for i in range(12):\n",
    "        setAtt(2*i)\n",
    "        time.sleep(0.2)\n",
    "        ai=epics.caget(\"SR00RPA01:IN1_DATA_MONITOR\")\n",
    "        time.sleep(1.5)\n",
    "        ai = numpy.mean(ai)\n",
    "        readStat()\n",
    "        f.write(str(2*i)+\"dB:   \"+str(ai)+\"V\\n\")\n",
    "\n",
    "def readStat():\n",
    "    global ai\n",
    "    powVal = str(readPow())\n",
    "    freqVal = str(readFreq())\n",
    "    attVal = str(epics.caget('car'))\n",
    "    volVal = str(ai)\n",
    "    print('Power = ' + powVal + '   Frequency = ' + freqVal + '    Attenuation = ' + attVal + '     Voltage = ' + volVal)\n",
    "\n",
    "#function to set attenuation\n",
    "def setAtt(attenVal):\n",
    "    epics.caput('car', attenVal)\n",
    "\n",
    "#select switch function\n",
    "def setSwitch(switchVal):\n",
    "    if switchVal == 0:\n",
    "        epics.caput('SR00RPA01:DIGITAL_N5_STATE_CMD','Low' )\n",
    "    elif switchVal == 1:\n",
    "        epics.caput('SR00RPA01:DIGITAL_N5_STATE_CMD','High' )"
   ]
  },
  {
   "cell_type": "markdown",
   "id": "116fc765",
   "metadata": {},
   "source": [
    "# Set up redpitaya and communication with signal generator"
   ]
  },
  {
   "cell_type": "code",
   "execution_count": 18,
   "id": "f8b2a839",
   "metadata": {},
   "outputs": [],
   "source": [
    "def startSG():\n",
    "    #set up connection to signal generator\n",
    "    global rm\n",
    "    global inst\n",
    "    rm = pyvisa.ResourceManager()\n",
    "    inst = rm.open_resource('TCPIP0::192.168.0.254::inst0::INSTR')\n",
    "\n",
    "    #verifyy connection successful\n",
    "    if (inst.query('*IDN?')!='ANRITSU,MG3692C,211201,3.62\\r\\n'):\n",
    "        sys.exit('unexpected string')\n",
    "def closeSG():\n",
    "    global inst\n",
    "    inst.close()\n",
    "def startRP():    \n",
    "    epics.caput('SR00RPA01:IN1_GAIN_CMD', 'Low')\n",
    "    epics.caput('SR00RPA01:ACQ_TRIGGER_SRC_CMD', 'DISABLED')\n",
    "    #initialise pins as outputs\n",
    "    for i in range(6):\n",
    "                    epics.caput('SR00RPA01:DIGITAL_N'+str(i)+'_DIR_CMD', 'Output')\n",
    "\n",
    "    #initialise Latch Enable to high\n",
    "    epics.caput('SR00RPA01:DIGITAL_N4_STATE_CMD', 'High')\n",
    "    setSwitch(0)\n",
    "    setAtt(0)"
   ]
  },
  {
   "cell_type": "code",
   "execution_count": 19,
   "id": "a87c6a52",
   "metadata": {},
   "outputs": [],
   "source": [
    "def measureData():\n",
    "    global ai\n",
    "    epics.caput('SR00RPA01:START_CONT_ACQ_CMD', '1')\n",
    "    powOn()\n",
    "    voltageList = []\n",
    "    time.sleep(1.5)\n",
    "    ai=epics.caget(\"SR00RPA01:IN1_DATA_MONITOR\")\n",
    "    time.sleep(1.5)\n",
    "    voltageList.append(numpy.mean(ai))\n",
    "    while updatePow():\n",
    "        powOn()\n",
    "        time.sleep(1.5)\n",
    "        ai=epics.caget(\"SR00RPA01:IN1_DATA_MONITOR\")\n",
    "        time.sleep(1.5)\n",
    "        voltageList.append(numpy.mean(ai))\n",
    "        powOff()\n",
    "    epics.caput('SR00RPA01:STOP_ACQ_CMD', '1')\n",
    "    return voltageList\n",
    "\n",
    "def plot(yaxis):\n",
    "    plt.plot(list(numpy.arange(-20,-14,0.5)),yaxis,linestyle=\"dotted\")\n",
    "    plt.xlabel('Power (dBm)')\n",
    "    plt.ylabel('Voltage (V)')\n",
    "    plt.show()\n",
    "    \n",
    "def runAutomation(freq=14500000000,power=-20,freqinc=100000000,powerinc=0.5):\n",
    "    startRP()\n",
    "    startSG()\n",
    "    initPnF(freq,power,freqinc,powerinc)\n",
    "    plot(measureData())\n",
    "    closeSG()\n",
    "    "
   ]
  },
  {
   "cell_type": "markdown",
   "id": "b8ad1cde",
   "metadata": {},
   "source": [
    "# Main. Call functions and read values "
   ]
  },
  {
   "cell_type": "code",
   "execution_count": 341,
   "id": "225cbf52",
   "metadata": {},
   "outputs": [],
   "source": [
    "# setSwitch(0)\n",
    "# setAtt(0)\n",
    "\n",
    "# initPnF()\n",
    "# epics.caput('SR00RPA01:START_CONT_ACQ_CMD', '1')\n",
    "# #run the script\n",
    "# f = open(\"autoconfig.txt\", \"w\")\n",
    "\n",
    "# f.write(\"Power = \" + str(readPow())+'\\n')\n",
    "# f.write(\"Frequency = \" + str(readFreq())+'\\n')\n",
    "\n",
    "# f.write(\"attenuation, voltage\\n\")\n",
    "# incAtt()\n",
    "\n",
    "# while(updateFreq()):\n",
    "#     f.write(\"Frequency = \" + str(readFreq())+'\\n')\n",
    "#     f.write(\"attenuation, voltage\\n\")\n",
    "#     powOn()\n",
    "#     incAtt()\n",
    "#     powOff()\n",
    "# setFreq()\n",
    "# while(updatePow()):\n",
    "# f.write(\"Power = \" + str(readPow())+'\\n')\n",
    "# while(updateFreq()):\n",
    "#     f.write(\"Frequency = \" + str(readFreq())+'\\n')\n",
    "#     f.write(\"attenuation, voltage\\n\")\n",
    "#     powOn()\n",
    "#     incAtt()\n",
    "#     powOff()\n",
    "# setFreq()        \n",
    "\n",
    "# powOff()\n",
    "# inst.close()\n",
    "# epics.caput('SR00RPA01:STOP_ACQ_CMD', '1')\n",
    "# f.close()\n",
    "\n",
    "# f=open(\"autoconfig.txt\",\"r\")\n",
    "\n",
    "# print(f.read())"
   ]
  },
  {
   "cell_type": "code",
   "execution_count": 346,
   "id": "9663ef08",
   "metadata": {},
   "outputs": [
    {
     "name": "stdout",
     "output_type": "stream",
     "text": [
      "End of power range\n"
     ]
    },
    {
     "data": {
      "image/png": "[encoded data removed]",
      "text/plain": [
       "<Figure size 432x288 with 1 Axes>"
      ]
     },
     "metadata": {
      "needs_background": "light"
     },
     "output_type": "display_data"
    }
   ],
   "source": [
    "runAutomation(14500000000)"
   ]
  },
  {
   "cell_type": "code",
   "execution_count": 347,
   "id": "250f3bf5",
   "metadata": {},
   "outputs": [
    {
     "name": "stdout",
     "output_type": "stream",
     "text": [
      "End of power range\n"
     ]
    },
    {
     "data": {
      "image/png": "[encoded data removed]",
      "text/plain": [
       "<Figure size 432x288 with 1 Axes>"
      ]
     },
     "metadata": {
      "needs_background": "light"
     },
     "output_type": "display_data"
    }
   ],
   "source": [
    "runAutomation(15500000000)"
   ]
  },
  {
   "cell_type": "code",
   "execution_count": 348,
   "id": "db6b993e",
   "metadata": {},
   "outputs": [
    {
     "name": "stdout",
     "output_type": "stream",
     "text": [
      "End of power range\n"
     ]
    },
    {
     "data": {
      "image/png": "[encoded data removed]",
      "text/plain": [
       "<Figure size 432x288 with 1 Axes>"
      ]
     },
     "metadata": {
      "needs_background": "light"
     },
     "output_type": "display_data"
    }
   ],
   "source": [
    "runAutomation(16500000000)"
   ]
  },
  {
   "cell_type": "code",
   "execution_count": null,
   "id": "9a8341e7",
   "metadata": {},
   "outputs": [],
   "source": []
  }
 ],
 "metadata": {
  "kernelspec": {
   "display_name": "Python 3 (ipykernel)",
   "language": "python",
   "name": "python3"
  },
  "language_info": {
   "codemirror_mode": {
    "name": "ipython",
    "version": 3
   },
   "file_extension": ".py",
   "mimetype": "text/x-python",
   "name": "python",
   "nbconvert_exporter": "python",
   "pygments_lexer": "ipython3",
   "version": "3.10.4"
  }
 },
 "nbformat": 4,
 "nbformat_minor": 5
}
